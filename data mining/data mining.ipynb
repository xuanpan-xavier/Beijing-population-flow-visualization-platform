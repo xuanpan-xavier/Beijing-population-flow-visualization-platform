{
 "cells": [
  {
   "cell_type": "code",
   "execution_count": 2,
   "id": "beeaa635-6017-48a8-92d4-c1dff824d405",
   "metadata": {
    "execution": {
     "iopub.execute_input": "2022-05-16T11:37:19.135627Z",
     "iopub.status.busy": "2022-05-16T11:37:19.135145Z",
     "iopub.status.idle": "2022-05-16T11:37:21.312457Z",
     "shell.execute_reply": "2022-05-16T11:37:21.311502Z",
     "shell.execute_reply.started": "2022-05-16T11:37:19.135596Z"
    },
    "scrolled": true,
    "tags": []
   },
   "outputs": [
    {
     "name": "stdout",
     "output_type": "stream",
     "text": [
      "Looking in indexes: https://pypi.tuna.tsinghua.edu.cn/simple\n",
      "Requirement already satisfied: statsmodels in ./.data/webide/pip/lib/python3.7/site-packages (0.11.0)\n",
      "Requirement already satisfied: pandas>=0.21 in /opt/conda/envs/python35-paddle120-env/lib/python3.7/site-packages (from statsmodels) (1.1.5)\n",
      "Requirement already satisfied: scipy>=1.0 in /opt/conda/envs/python35-paddle120-env/lib/python3.7/site-packages (from statsmodels) (1.3.0)\n",
      "Requirement already satisfied: patsy>=0.5 in /opt/conda/envs/python35-paddle120-env/lib/python3.7/site-packages (from statsmodels) (0.5.2)\n",
      "Requirement already satisfied: numpy>=1.14 in /opt/conda/envs/python35-paddle120-env/lib/python3.7/site-packages (from statsmodels) (1.16.4)\n",
      "Requirement already satisfied: python-dateutil>=2.7.3 in /opt/conda/envs/python35-paddle120-env/lib/python3.7/site-packages (from pandas>=0.21->statsmodels) (2.8.2)\n",
      "Requirement already satisfied: pytz>=2017.2 in /opt/conda/envs/python35-paddle120-env/lib/python3.7/site-packages (from pandas>=0.21->statsmodels) (2019.3)\n",
      "Requirement already satisfied: six in /opt/conda/envs/python35-paddle120-env/lib/python3.7/site-packages (from patsy>=0.5->statsmodels) (1.16.0)\n",
      "\u001b[33mWARNING: You are using pip version 22.0.4; however, version 22.1 is available.\n",
      "You should consider upgrading via the '/opt/conda/envs/python35-paddle120-env/bin/python -m pip install --upgrade pip' command.\u001b[0m\u001b[33m\n",
      "\u001b[0mNote: you may need to restart the kernel to use updated packages.\n"
     ]
    }
   ],
   "source": [
    "pip install statsmodels"
   ]
  },
  {
   "cell_type": "code",
   "execution_count": 3,
   "id": "4eb37f03-54eb-42d0-baec-37cff975a3d0",
   "metadata": {
    "execution": {
     "iopub.execute_input": "2022-05-16T11:37:21.342099Z",
     "iopub.status.busy": "2022-05-16T11:37:21.341538Z",
     "iopub.status.idle": "2022-05-16T11:37:22.476414Z",
     "shell.execute_reply": "2022-05-16T11:37:22.475661Z",
     "shell.execute_reply.started": "2022-05-16T11:37:21.342072Z"
    },
    "scrolled": true,
    "tags": []
   },
   "outputs": [],
   "source": [
    "#载入类库\n",
    "import warnings\n",
    "import pandas as pd\n",
    "import numpy as np\n",
    "import lightgbm as lgb\n",
    "from matplotlib import pyplot as plt\n",
    "from statsmodels.tsa.holtwinters import ExponentialSmoothing\n",
    "from statsmodels.tsa.ar_model import AR\n",
    "from sklearn.model_selection import KFold,train_test_split\n",
    "from sklearn.metrics import mean_squared_error\n",
    "warnings.filterwarnings('ignore')"
   ]
  },
  {
   "cell_type": "code",
   "execution_count": 3,
   "id": "74bb8e73-9cca-4d59-b793-90907b0a5069",
   "metadata": {
    "execution": {
     "iopub.execute_input": "2022-05-07T10:37:50.798250Z",
     "iopub.status.busy": "2022-05-07T10:37:50.797857Z",
     "iopub.status.idle": "2022-05-07T10:37:51.761828Z",
     "shell.execute_reply": "2022-05-07T10:37:51.761038Z",
     "shell.execute_reply.started": "2022-05-07T10:37:50.798214Z"
    },
    "scrolled": true,
    "tags": []
   },
   "outputs": [],
   "source": [
    "#读取数据\n",
    "df1=pd.read_csv('/home/aistudio/data/data143438/area_passenger_index.csv',header=None\n",
    "                    ,names=['ID','time','people_index'])\n",
    "df2=pd.read_csv('/home/aistudio/data/data143438/area_passenger_info.csv',header=None\n",
    "                    ,names=['ID','area_name','area_type','Center_x','Center_y','Grid_x','Grid_y','area'])\n",
    "df3=pd.read_csv('/home/aistudio/data/data143438/migration_index.csv',header=None\n",
    "                ,names=['date','departure_province','departure_city','arrival_province','arrival_city','index'])\n",
    "df4=pd.read_csv('/home/aistudio/data/data143438/grid_strength.csv',header=None\n",
    "                    ,names=['hour','start_grid_x','start_grid_y','end_grid_x','end_grid_y','Index'])\n",
    "sub=pd.read_csv('/home/aistudio/data/data143438/test_submit_example.csv',header=None\n",
    "                    ,names=['ID','time','people_index'])"
   ]
  },
  {
   "cell_type": "code",
   "execution_count": 4,
   "id": "e9ed4424-fa88-4898-aa62-673174c86c7e",
   "metadata": {
    "execution": {
     "iopub.execute_input": "2022-05-07T10:37:51.763527Z",
     "iopub.status.busy": "2022-05-07T10:37:51.762979Z",
     "iopub.status.idle": "2022-05-07T10:37:51.780239Z",
     "shell.execute_reply": "2022-05-07T10:37:51.779675Z",
     "shell.execute_reply.started": "2022-05-07T10:37:51.763491Z"
    },
    "scrolled": true,
    "tags": []
   },
   "outputs": [
    {
     "data": {
      "text/html": [
       "<div>\n",
       "<style scoped>\n",
       "    .dataframe tbody tr th:only-of-type {\n",
       "        vertical-align: middle;\n",
       "    }\n",
       "\n",
       "    .dataframe tbody tr th {\n",
       "        vertical-align: top;\n",
       "    }\n",
       "\n",
       "    .dataframe thead th {\n",
       "        text-align: right;\n",
       "    }\n",
       "</style>\n",
       "<table border=\"1\" class=\"dataframe\">\n",
       "  <thead>\n",
       "    <tr style=\"text-align: right;\">\n",
       "      <th></th>\n",
       "      <th>ID</th>\n",
       "      <th>area_name</th>\n",
       "      <th>area_type</th>\n",
       "      <th>Center_x</th>\n",
       "      <th>Center_y</th>\n",
       "      <th>Grid_x</th>\n",
       "      <th>Grid_y</th>\n",
       "      <th>area</th>\n",
       "    </tr>\n",
       "  </thead>\n",
       "  <tbody>\n",
       "    <tr>\n",
       "      <th>0</th>\n",
       "      <td>1</td>\n",
       "      <td>北坞公园</td>\n",
       "      <td>旅游景点;公园</td>\n",
       "      <td>116.256586</td>\n",
       "      <td>39.986913</td>\n",
       "      <td>116.256713</td>\n",
       "      <td>39.987525</td>\n",
       "      <td>395925.609375</td>\n",
       "    </tr>\n",
       "    <tr>\n",
       "      <th>1</th>\n",
       "      <td>2</td>\n",
       "      <td>古塔公园</td>\n",
       "      <td>旅游景点;公园</td>\n",
       "      <td>116.535404</td>\n",
       "      <td>39.878676</td>\n",
       "      <td>116.535232</td>\n",
       "      <td>39.878140</td>\n",
       "      <td>575268.839844</td>\n",
       "    </tr>\n",
       "    <tr>\n",
       "      <th>2</th>\n",
       "      <td>3</td>\n",
       "      <td>中央戏剧学院</td>\n",
       "      <td>教育培训;高等院校</td>\n",
       "      <td>116.404667</td>\n",
       "      <td>39.935999</td>\n",
       "      <td>116.404148</td>\n",
       "      <td>39.936165</td>\n",
       "      <td>17024.636719</td>\n",
       "    </tr>\n",
       "    <tr>\n",
       "      <th>3</th>\n",
       "      <td>4</td>\n",
       "      <td>丰联广场</td>\n",
       "      <td>购物;购物中心</td>\n",
       "      <td>116.438556</td>\n",
       "      <td>39.923713</td>\n",
       "      <td>116.438117</td>\n",
       "      <td>39.924203</td>\n",
       "      <td>11695.019531</td>\n",
       "    </tr>\n",
       "    <tr>\n",
       "      <th>4</th>\n",
       "      <td>5</td>\n",
       "      <td>中华女子学院</td>\n",
       "      <td>教育培训;高等院校</td>\n",
       "      <td>116.435352</td>\n",
       "      <td>39.994935</td>\n",
       "      <td>116.434508</td>\n",
       "      <td>39.994636</td>\n",
       "      <td>83053.546875</td>\n",
       "    </tr>\n",
       "  </tbody>\n",
       "</table>\n",
       "</div>"
      ],
      "text/plain": [
       "   ID area_name  area_type    Center_x   Center_y      Grid_x     Grid_y  \\\n",
       "0   1      北坞公园    旅游景点;公园  116.256586  39.986913  116.256713  39.987525   \n",
       "1   2      古塔公园    旅游景点;公园  116.535404  39.878676  116.535232  39.878140   \n",
       "2   3    中央戏剧学院  教育培训;高等院校  116.404667  39.935999  116.404148  39.936165   \n",
       "3   4      丰联广场    购物;购物中心  116.438556  39.923713  116.438117  39.924203   \n",
       "4   5    中华女子学院  教育培训;高等院校  116.435352  39.994935  116.434508  39.994636   \n",
       "\n",
       "            area  \n",
       "0  395925.609375  \n",
       "1  575268.839844  \n",
       "2   17024.636719  \n",
       "3   11695.019531  \n",
       "4   83053.546875  "
      ]
     },
     "execution_count": 4,
     "metadata": {},
     "output_type": "execute_result"
    }
   ],
   "source": [
    "#简要查看数据\n",
    "df2.head()"
   ]
  },
  {
   "cell_type": "code",
   "execution_count": 5,
   "id": "f2faf624-4e90-4355-96b2-af832f776404",
   "metadata": {
    "execution": {
     "iopub.execute_input": "2022-05-07T10:37:51.781521Z",
     "iopub.status.busy": "2022-05-07T10:37:51.781200Z",
     "iopub.status.idle": "2022-05-07T10:37:54.427549Z",
     "shell.execute_reply": "2022-05-07T10:37:54.426733Z",
     "shell.execute_reply.started": "2022-05-07T10:37:51.781489Z"
    },
    "scrolled": true,
    "tags": []
   },
   "outputs": [],
   "source": [
    "#对df1时间格式处理\n",
    "df1['time']=pd.to_datetime(df1['time'],format='%Y%m%d%H')\n",
    "df1['day']=df1['time'].dt.day.apply(lambda x:x-17 if x>=17 else x+14)\n",
    "df1['weekday']=df1['time'].dt.weekday\n",
    "df1['hour']=df1['time'].dt.hour"
   ]
  },
  {
   "cell_type": "code",
   "execution_count": 6,
   "id": "27701332-5117-419b-821f-8c804759a1d7",
   "metadata": {
    "execution": {
     "iopub.execute_input": "2022-05-07T10:37:54.429095Z",
     "iopub.status.busy": "2022-05-07T10:37:54.428723Z",
     "iopub.status.idle": "2022-05-07T10:37:54.647399Z",
     "shell.execute_reply": "2022-05-07T10:37:54.646606Z",
     "shell.execute_reply.started": "2022-05-07T10:37:54.429060Z"
    },
    "scrolled": true,
    "tags": []
   },
   "outputs": [],
   "source": [
    "#按时间、地点取平均    \n",
    "dict_wd=dict(df1.groupby(['weekday']).mean()['people_index'])\n",
    "dict_h=dict(df1.groupby(['hour']).mean()['people_index'])\n",
    "dict_id=dict(df1.groupby(['ID']).mean()['people_index'])"
   ]
  },
  {
   "cell_type": "code",
   "execution_count": 7,
   "id": "25a22b0f-4300-4a01-bdc1-0896ecc07178",
   "metadata": {
    "execution": {
     "iopub.execute_input": "2022-05-07T10:37:54.649112Z",
     "iopub.status.busy": "2022-05-07T10:37:54.648512Z",
     "iopub.status.idle": "2022-05-07T10:37:54.677764Z",
     "shell.execute_reply": "2022-05-07T10:37:54.677051Z",
     "shell.execute_reply.started": "2022-05-07T10:37:54.649077Z"
    },
    "scrolled": true,
    "tags": []
   },
   "outputs": [],
   "source": [
    "#添加处理后特征\n",
    "df1['weekday_encoded']=df1['weekday'].map(dict_wd)\n",
    "df1['hour_encoded']=df1['hour'].map(dict_h)\n",
    "df1['ID_encoded']=df1['ID'].map(dict_id)"
   ]
  },
  {
   "cell_type": "code",
   "execution_count": 8,
   "id": "43cdf5ff-2962-406f-a51a-ce299eff6fb7",
   "metadata": {
    "execution": {
     "iopub.execute_input": "2022-05-07T10:37:54.679401Z",
     "iopub.status.busy": "2022-05-07T10:37:54.678832Z",
     "iopub.status.idle": "2022-05-07T10:37:54.682576Z",
     "shell.execute_reply": "2022-05-07T10:37:54.682003Z",
     "shell.execute_reply.started": "2022-05-07T10:37:54.679365Z"
    },
    "scrolled": true,
    "tags": []
   },
   "outputs": [],
   "source": [
    "#对运行后展示进行无界处理\n",
    "pd.set_option('display.width',None)"
   ]
  },
  {
   "cell_type": "code",
   "execution_count": 9,
   "id": "86c8bff6-b747-41b4-bf73-ac59fdb5f5c3",
   "metadata": {
    "execution": {
     "iopub.execute_input": "2022-05-07T10:37:54.683940Z",
     "iopub.status.busy": "2022-05-07T10:37:54.683479Z",
     "iopub.status.idle": "2022-05-07T10:37:54.710991Z",
     "shell.execute_reply": "2022-05-07T10:37:54.710016Z",
     "shell.execute_reply.started": "2022-05-07T10:37:54.683910Z"
    },
    "scrolled": true,
    "tags": []
   },
   "outputs": [],
   "source": [
    "#数据备份处理\n",
    "train_data=df1.copy()"
   ]
  },
  {
   "cell_type": "code",
   "execution_count": 10,
   "id": "6c716323-751a-4ef3-9e30-45343fc4d4f0",
   "metadata": {
    "execution": {
     "iopub.execute_input": "2022-05-07T10:37:54.712525Z",
     "iopub.status.busy": "2022-05-07T10:37:54.712173Z",
     "iopub.status.idle": "2022-05-07T10:37:54.895252Z",
     "shell.execute_reply": "2022-05-07T10:37:54.893872Z",
     "shell.execute_reply.started": "2022-05-07T10:37:54.712494Z"
    },
    "scrolled": true,
    "tags": []
   },
   "outputs": [],
   "source": [
    "#合并数据集并开始处理df2\n",
    "train_data=pd.merge(df1,df2,on=['ID'])"
   ]
  },
  {
   "cell_type": "code",
   "execution_count": 11,
   "id": "471bf299-5a88-4ac1-b780-e64ccfc0958c",
   "metadata": {
    "execution": {
     "iopub.execute_input": "2022-05-07T10:37:54.898574Z",
     "iopub.status.busy": "2022-05-07T10:37:54.898027Z",
     "iopub.status.idle": "2022-05-07T10:37:55.133603Z",
     "shell.execute_reply": "2022-05-07T10:37:55.132850Z",
     "shell.execute_reply.started": "2022-05-07T10:37:54.898536Z"
    },
    "scrolled": true,
    "tags": []
   },
   "outputs": [],
   "source": [
    "#按区域类别分类取平均\n",
    "dict_at=dict(train_data.groupby(['area_type']).mean()['people_index'])"
   ]
  },
  {
   "cell_type": "code",
   "execution_count": 12,
   "id": "d2ba0f04-6411-4435-ba2a-0cb4a1bbe778",
   "metadata": {
    "execution": {
     "iopub.execute_input": "2022-05-07T10:37:55.135259Z",
     "iopub.status.busy": "2022-05-07T10:37:55.134708Z",
     "iopub.status.idle": "2022-05-07T10:37:55.182322Z",
     "shell.execute_reply": "2022-05-07T10:37:55.181520Z",
     "shell.execute_reply.started": "2022-05-07T10:37:55.135223Z"
    },
    "scrolled": true,
    "tags": []
   },
   "outputs": [],
   "source": [
    " #添加处理后特征\n",
    "train_data['area_type_encoded']=train_data['area_type'].map(dict_at)"
   ]
  },
  {
   "cell_type": "code",
   "execution_count": 13,
   "id": "61eb8679-6849-471f-ae76-fe14fd4f6c03",
   "metadata": {
    "execution": {
     "iopub.execute_input": "2022-05-07T10:37:55.184374Z",
     "iopub.status.busy": "2022-05-07T10:37:55.183477Z",
     "iopub.status.idle": "2022-05-07T10:37:55.307077Z",
     "shell.execute_reply": "2022-05-07T10:37:55.306161Z",
     "shell.execute_reply.started": "2022-05-07T10:37:55.184330Z"
    },
    "scrolled": true,
    "tags": []
   },
   "outputs": [],
   "source": [
    "#去除较为无关的特征\n",
    "train_data.drop(['area_name','area_type'],axis=1,inplace=True)"
   ]
  },
  {
   "cell_type": "code",
   "execution_count": 14,
   "id": "871e6ea8-1d66-4af9-a4ce-da12d52fbfc0",
   "metadata": {
    "execution": {
     "iopub.execute_input": "2022-05-07T10:37:55.309397Z",
     "iopub.status.busy": "2022-05-07T10:37:55.308794Z",
     "iopub.status.idle": "2022-05-07T10:37:55.327528Z",
     "shell.execute_reply": "2022-05-07T10:37:55.326847Z",
     "shell.execute_reply.started": "2022-05-07T10:37:55.309361Z"
    },
    "scrolled": true,
    "tags": []
   },
   "outputs": [],
   "source": [
    "#对df3时间格式处理\n",
    "df3['date']=pd.to_datetime(df3['date'],format='%Y%m%d')\n",
    "df3['day_encode']=df3['date'].dt.day.apply(lambda x:x-17 if x>=17 else x+14)\n"
   ]
  },
  {
   "cell_type": "code",
   "execution_count": 15,
   "id": "5c7ae3bb-66c9-48db-8d5a-a23ff36ecaf8",
   "metadata": {
    "execution": {
     "iopub.execute_input": "2022-05-07T10:37:55.328831Z",
     "iopub.status.busy": "2022-05-07T10:37:55.328622Z",
     "iopub.status.idle": "2022-05-07T10:37:55.399896Z",
     "shell.execute_reply": "2022-05-07T10:37:55.399054Z",
     "shell.execute_reply.started": "2022-05-07T10:37:55.328805Z"
    },
    "scrolled": true
   },
   "outputs": [],
   "source": [
    "\n",
    "#对迁移数据进行处理\n",
    "df3['city']=df3['arrival_city'].apply(lambda x:1 if x=='北京市' else 0)\n",
    "inbj=df3[df3['city']==1]\n",
    "outbj=df3[df3['city']==0]\n",
    "index_mean_in=inbj.groupby(['date']).mean()['index']\n",
    "index_std_in=inbj.groupby(['date']).std()['index']\n",
    "index_mean_in_copy=index_mean_in.copy()\n",
    "index_mean_in_copy.index=np.arange(30)\n",
    "dict4=dict(index_mean_in_copy)\n",
    "index_std_in_copy=index_std_in.copy()\n",
    "index_std_in_copy.index=np.arange(30)\n",
    "dict5=dict(index_std_in_copy)\n",
    "index_mean_out=outbj.groupby(['date']).mean()['index']\n",
    "index_std_out=outbj.groupby(['date']).std()['index']\n",
    "index_mean_out_copy=index_mean_out.copy()\n",
    "index_mean_out_copy.index=np.arange(30)\n",
    "dict6=dict(index_mean_out_copy)\n",
    "index_std_out_copy=index_std_out.copy()\n",
    "index_std_out_copy.index=np.arange(30)\n",
    "dict7=dict(index_std_out_copy)\n",
    "\n",
    "\n",
    "train_data['index_mean_in']=train_data['day'].map(dict4)\n",
    "train_data['index_std_in']=train_data['day'].map(dict5)\n",
    "train_data['index_mean_out']=train_data['day'].map(dict6)\n",
    "train_data['index_std_out']=train_data['day'].map(dict7)"
   ]
  },
  {
   "cell_type": "code",
   "execution_count": 16,
   "id": "1682681b-fef2-42ee-8c00-89b96278bb6c",
   "metadata": {
    "execution": {
     "iopub.execute_input": "2022-05-07T10:37:55.401675Z",
     "iopub.status.busy": "2022-05-07T10:37:55.401114Z",
     "iopub.status.idle": "2022-05-07T10:37:55.479809Z",
     "shell.execute_reply": "2022-05-07T10:37:55.478572Z",
     "shell.execute_reply.started": "2022-05-07T10:37:55.401641Z"
    },
    "scrolled": true,
    "tags": []
   },
   "outputs": [],
   "source": [
    "#用ar模型进行时间序列预测\n",
    "ar_model1=AR(index_mean_in).fit()\n",
    "pred_index_mean_in=ar_model1.predict('20200216','20200224',dynamic=True)\n",
    "ar_model3=AR(index_mean_out).fit()\n",
    "pred_index_mean_out=ar_model3.predict('20200216','20200224',dynamic=True)\n",
    "ar_model2=AR(index_std_in).fit()\n",
    "pred_index_std_in=ar_model2.predict('20200216','20200224',dynamic=True)\n",
    "ar_model4=AR(index_std_out).fit()\n",
    "pred_index_std_out=ar_model4.predict('20200216','20200224',dynamic=True)\n"
   ]
  },
  {
   "cell_type": "code",
   "execution_count": null,
   "id": "131f5237-8080-46e9-992a-7f443d636bb8",
   "metadata": {
    "scrolled": true
   },
   "outputs": [],
   "source": [
    "#对df4进行数据处理\n",
    "dict_hi=dict(df4.groupby(['hour']).mean()['Index'])\n",
    "train_data['hi_encoded']=train_data['hour'].map(dict_hi)"
   ]
  },
  {
   "cell_type": "code",
   "execution_count": 17,
   "id": "88049157-67a1-4a79-a59c-2b7ac7c50704",
   "metadata": {
    "execution": {
     "iopub.execute_input": "2022-05-07T10:37:55.481641Z",
     "iopub.status.busy": "2022-05-07T10:37:55.481070Z",
     "iopub.status.idle": "2022-05-07T10:37:55.658451Z",
     "shell.execute_reply": "2022-05-07T10:37:55.656946Z",
     "shell.execute_reply.started": "2022-05-07T10:37:55.481606Z"
    },
    "scrolled": true,
    "tags": []
   },
   "outputs": [],
   "source": [
    "#对测试数据的时间进行处理以便构建模型\n",
    "test_data=sub.copy()\n",
    "test_data.drop(['people_index'],axis=1,inplace=True)\n",
    "test_data['time']=pd.to_datetime(test_data['time'],format='%Y%m%d%H')\n",
    "test_data['weekday']=test_data['time'].dt.weekday\n",
    "test_data['hour']=test_data['time'].dt.hour\n",
    "test_data['weekday_encoded']=test_data['weekday'].map(dict_wd)\n",
    "test_data['hour_encoded']=test_data['hour'].map(dict_h)\n",
    "test_data['ID_encoded']=test_data['ID'].map(dict_id)\n",
    "test_data['day']=test_data['time'].dt.day.apply(lambda x:x+14)\n"
   ]
  },
  {
   "cell_type": "code",
   "execution_count": 18,
   "id": "c3ec32e6-e28c-4a68-8a32-95da28609dbf",
   "metadata": {
    "execution": {
     "iopub.execute_input": "2022-05-07T10:37:55.660335Z",
     "iopub.status.busy": "2022-05-07T10:37:55.659667Z",
     "iopub.status.idle": "2022-05-07T10:37:56.052494Z",
     "shell.execute_reply": "2022-05-07T10:37:56.051435Z",
     "shell.execute_reply.started": "2022-05-07T10:37:55.660296Z"
    },
    "scrolled": true,
    "tags": []
   },
   "outputs": [],
   "source": [
    "pred_index_mean_in.index=np.arange(30,39,1)\n",
    "dict_pim=dict(pred_index_mean_in)\n",
    "pred_index_std_in.index=np.arange(30,39,1)\n",
    "dict_pis=dict(pred_index_std_in)\n",
    "pred_index_mean_out.index=np.arange(30,39,1)\n",
    "dict_pim1=dict(pred_index_mean_out)\n",
    "pred_index_std_out.index=np.arange(30,39,1)\n",
    "dict_pis1=dict(pred_index_std_out)\n",
    "test_data['index_mean_in']=test_data['day'].map(dict_pim)\n",
    "test_data['index_std_in']=test_data['day'].map(dict_pis)\n",
    "test_data['index_mean_out']=test_data['day'].map(dict_pim1)\n",
    "test_data['index_std_out']=test_data['day'].map(dict_pis1)\n",
    "\n",
    "test_data=pd.merge(test_data,df2,on=['ID'])\n",
    "test_data.drop(['Center_x','Center_y','Grid_x','Grid_y'],axis=1,inplace=True)\n",
    "test_data['hi_encoded']=test_data['hour'].map(dict_hi)\n",
    "test_data['area_type_encoded']=test_data['area_type'].map(dict_at)\n",
    "test_data.drop(['ID','time','weekday','hour','day','area_name','area_type'],axis=1,inplace=True)\n",
    "train_data=train_data[train_data['day']>=16]\n",
    "train_data.index=np.arange(train_data.shape[0])\n",
    "target=train_data['people_index']"
   ]
  },
  {
   "cell_type": "code",
   "execution_count": 19,
   "id": "86ba87e7-dda2-4ac6-b6e5-752fdbee9ecb",
   "metadata": {
    "execution": {
     "iopub.execute_input": "2022-05-07T10:37:56.054212Z",
     "iopub.status.busy": "2022-05-07T10:37:56.053963Z",
     "iopub.status.idle": "2022-05-07T10:38:01.941741Z",
     "shell.execute_reply": "2022-05-07T10:38:01.940894Z",
     "shell.execute_reply.started": "2022-05-07T10:37:56.054175Z"
    },
    "scrolled": true,
    "tags": []
   },
   "outputs": [
    {
     "name": "stdout",
     "output_type": "stream",
     "text": [
      "train_data.head()\n",
      "    weekday_encoded  hour_encoded  ID_encoded           area  \\\n",
      "0        27.552537     12.499074    4.835556  395925.609375   \n",
      "1        27.552537      8.617108    4.835556  395925.609375   \n",
      "2        27.552537      7.245714    4.835556  395925.609375   \n",
      "3        27.552537      6.373882    4.835556  395925.609375   \n",
      "4        27.552537      6.205978    4.835556  395925.609375   \n",
      "\n",
      "   area_type_encoded  index_mean_in  index_std_in  index_mean_out  \\\n",
      "0          10.071021       0.016892      0.042052        0.003928   \n",
      "1          10.071021       0.016892      0.042052        0.003928   \n",
      "2          10.071021       0.016892      0.042052        0.003928   \n",
      "3          10.071021       0.016892      0.042052        0.003928   \n",
      "4          10.071021       0.016892      0.042052        0.003928   \n",
      "\n",
      "   index_std_out  hi_encoded  \n",
      "0       0.015576    0.218439  \n",
      "1       0.015576    0.219937  \n",
      "2       0.015576    0.202704  \n",
      "3       0.015576    0.194659  \n",
      "4       0.015576    0.264326  \n",
      "test_new.head()\n",
      "    weekday_encoded  hour_encoded  ID_encoded           area  \\\n",
      "0        27.552537     12.499074    4.835556  395925.609375   \n",
      "1        27.552537      8.617108    4.835556  395925.609375   \n",
      "2        27.552537      7.245714    4.835556  395925.609375   \n",
      "3        27.552537      6.373882    4.835556  395925.609375   \n",
      "4        27.552537      6.205978    4.835556  395925.609375   \n",
      "\n",
      "   area_type_encoded  index_mean_in  index_std_in  index_mean_out  \\\n",
      "0          10.071021       0.004731      0.029124        0.002587   \n",
      "1          10.071021       0.004731      0.029124        0.002587   \n",
      "2          10.071021       0.004731      0.029124        0.002587   \n",
      "3          10.071021       0.004731      0.029124        0.002587   \n",
      "4          10.071021       0.004731      0.029124        0.002587   \n",
      "\n",
      "   index_std_out  hi_encoded  \n",
      "0        0.01497    0.218439  \n",
      "1        0.01497    0.219937  \n",
      "2        0.01497    0.202704  \n",
      "3        0.01497    0.194659  \n",
      "4        0.01497    0.264326  \n"
     ]
    }
   ],
   "source": [
    "train_data.drop(['people_index','day','ID','weekday','hour','Center_x','Center_y','Grid_x','Grid_y','time']\n",
    "                    ,axis=1,inplace=True)\n",
    "print('train_data.head()\\n',train_data.head())\n",
    "test_new=pd.DataFrame([test_data['weekday_encoded']#周几平均\n",
    "                         ,test_data['hour_encoded']#小时平均\n",
    "                         ,test_data['ID_encoded']#区域平均\n",
    "                         ,test_data['area']#区域面积\n",
    "                         ,test_data['area_type_encoded']#区域类型平均\n",
    "                         ,test_data['index_mean_in']#迁入平均\n",
    "                         ,test_data['index_std_in']#迁入方差\n",
    "                         ,test_data['index_mean_out']#迁出平均\n",
    "                         ,test_data['index_std_out']#迁出方差\n",
    "                         ,test_data['hi_encoded']]).T#网格间流动小时平均\n",
    "print('test_new.head()\\n',test_new.head())"
   ]
  },
  {
   "cell_type": "code",
   "execution_count": null,
   "id": "a49f0e62-88f4-47d4-bfd4-223b973a29b1",
   "metadata": {
    "execution": {
     "iopub.status.busy": "2022-05-07T10:38:18.990274Z",
     "iopub.status.idle": "2022-05-07T10:38:18.990592Z",
     "shell.execute_reply": "2022-05-07T10:38:18.990446Z",
     "shell.execute_reply.started": "2022-05-07T10:38:18.990430Z"
    },
    "scrolled": true,
    "tags": []
   },
   "outputs": [],
   "source": [
    "    import  lightgbm as lgb\n",
    "    model_lgb=lgb.LGBMRegressor(num_leaves=20\n",
    "                                ,max_depth=6\n",
    "                                ,learning_rate=0.09\n",
    "                                ,n_estimators=1100\n",
    "                                ,n_jobs=-1\n",
    "                                )#所有core进行计算\n",
    "    x_train,x_test,y_train,y_test=train_test_split(train_data,target,test_size=0.2)\n",
    "    model_lgb.fit(x_train,y_train)\n",
    "    y_hat=model_lgb.predict(x_test)\n",
    "    y_hat[y_hat<0]=0\n",
    "    print(1/(mean_squared_error(y_test,y_hat)**0.5+1))\n",
    "    keys=[]\n",
    "    sk=KFold(n_splits=10,shuffle=True)\n",
    "    for train,test in sk.split(train_data,target):\n",
    "        x_train=train_data.iloc[train]\n",
    "        y_train=target.iloc[train]\n",
    "        x_test=train_data.iloc[test]\n",
    "        y_test=target.iloc[test]\n",
    "        model_lgb.fit(x_train,y_train)\n",
    "        y_hat=model_lgb.predict(x_test)\n",
    "        y_hat[y_hat<0]=0\n",
    "        print(1/(mean_squared_error(y_test,y_hat)**0.5+1))\n",
    "        keys.append(model_lgb.predict(test_new))\n",
    "    keys=np.array(keys)\n",
    "    km=keys.mean(axis=0)\n",
    "    km[km<0]=0\n",
    "    sub.iloc[:,2]=km\n",
    "    sub.to_csv('result.csv',encoding='utf-8',header=None,index=None)"
   ]
  },
  {
   "cell_type": "code",
   "execution_count": 4,
   "id": "93288d3b-8c3f-4bf8-8d26-b2567529ebe4",
   "metadata": {
    "execution": {
     "iopub.execute_input": "2022-05-16T11:37:27.196698Z",
     "iopub.status.busy": "2022-05-16T11:37:27.196288Z",
     "iopub.status.idle": "2022-05-16T11:37:34.202757Z",
     "shell.execute_reply": "2022-05-16T11:37:34.201557Z",
     "shell.execute_reply.started": "2022-05-16T11:37:27.196666Z"
    },
    "scrolled": true,
    "tags": []
   },
   "outputs": [
    {
     "ename": "KeyboardInterrupt",
     "evalue": "",
     "output_type": "error",
     "traceback": [
      "\u001b[0;31m---------------------------------------------------------------------------\u001b[0m",
      "\u001b[0;31mKeyboardInterrupt\u001b[0m                         Traceback (most recent call last)",
      "\u001b[0;32m/tmp/ipykernel_2142/2043155339.py\u001b[0m in \u001b[0;36m<module>\u001b[0;34m\u001b[0m\n\u001b[1;32m      3\u001b[0m result2=pd.read_csv('result1.csv',header=None\n\u001b[1;32m      4\u001b[0m                     ,names=['ID','time','people_index'])\n\u001b[0;32m----> 5\u001b[0;31m \u001b[0mresult1\u001b[0m\u001b[0;34m[\u001b[0m\u001b[0;34m'people_index'\u001b[0m\u001b[0;34m]\u001b[0m \u001b[0;34m=\u001b[0m \u001b[0mresult1\u001b[0m\u001b[0;34m.\u001b[0m\u001b[0mapply\u001b[0m\u001b[0;34m(\u001b[0m\u001b[0;32mlambda\u001b[0m \u001b[0mx\u001b[0m\u001b[0;34m:\u001b[0m \u001b[0;34m(\u001b[0m\u001b[0mx\u001b[0m\u001b[0;34m[\u001b[0m\u001b[0;34m'people_index'\u001b[0m\u001b[0;34m]\u001b[0m \u001b[0;34m+\u001b[0m \u001b[0mresult2\u001b[0m\u001b[0;34m[\u001b[0m\u001b[0;34m'people_index'\u001b[0m\u001b[0;34m]\u001b[0m\u001b[0;34m)\u001b[0m\u001b[0;34m/\u001b[0m\u001b[0;36m2\u001b[0m\u001b[0;34m,\u001b[0m \u001b[0maxis\u001b[0m\u001b[0;34m=\u001b[0m\u001b[0;36m1\u001b[0m\u001b[0;34m)\u001b[0m\u001b[0;34m\u001b[0m\u001b[0;34m\u001b[0m\u001b[0m\n\u001b[0m\u001b[1;32m      6\u001b[0m \u001b[0mresult1\u001b[0m\u001b[0;34m.\u001b[0m\u001b[0mhead\u001b[0m\u001b[0;34m(\u001b[0m\u001b[0;34m)\u001b[0m\u001b[0;34m\u001b[0m\u001b[0;34m\u001b[0m\u001b[0m\n\u001b[1;32m      7\u001b[0m \u001b[0;31m# result1.to_csv('result_mix.csv',encoding='utf-8',header=None,index=None)\u001b[0m\u001b[0;34m\u001b[0m\u001b[0;34m\u001b[0m\u001b[0;34m\u001b[0m\u001b[0m\n",
      "\u001b[0;32m/opt/conda/envs/python35-paddle120-env/lib/python3.7/site-packages/pandas/core/frame.py\u001b[0m in \u001b[0;36mapply\u001b[0;34m(self, func, axis, raw, result_type, args, **kwds)\u001b[0m\n\u001b[1;32m   7550\u001b[0m             \u001b[0mkwds\u001b[0m\u001b[0;34m=\u001b[0m\u001b[0mkwds\u001b[0m\u001b[0;34m,\u001b[0m\u001b[0;34m\u001b[0m\u001b[0;34m\u001b[0m\u001b[0m\n\u001b[1;32m   7551\u001b[0m         )\n\u001b[0;32m-> 7552\u001b[0;31m         \u001b[0;32mreturn\u001b[0m \u001b[0mop\u001b[0m\u001b[0;34m.\u001b[0m\u001b[0mget_result\u001b[0m\u001b[0;34m(\u001b[0m\u001b[0;34m)\u001b[0m\u001b[0;34m\u001b[0m\u001b[0;34m\u001b[0m\u001b[0m\n\u001b[0m\u001b[1;32m   7553\u001b[0m \u001b[0;34m\u001b[0m\u001b[0m\n\u001b[1;32m   7554\u001b[0m     \u001b[0;32mdef\u001b[0m \u001b[0mapplymap\u001b[0m\u001b[0;34m(\u001b[0m\u001b[0mself\u001b[0m\u001b[0;34m,\u001b[0m \u001b[0mfunc\u001b[0m\u001b[0;34m)\u001b[0m \u001b[0;34m->\u001b[0m \u001b[0;34m\"DataFrame\"\u001b[0m\u001b[0;34m:\u001b[0m\u001b[0;34m\u001b[0m\u001b[0;34m\u001b[0m\u001b[0m\n",
      "\u001b[0;32m/opt/conda/envs/python35-paddle120-env/lib/python3.7/site-packages/pandas/core/apply.py\u001b[0m in \u001b[0;36mget_result\u001b[0;34m(self)\u001b[0m\n\u001b[1;32m    183\u001b[0m             \u001b[0;32mreturn\u001b[0m \u001b[0mself\u001b[0m\u001b[0;34m.\u001b[0m\u001b[0mapply_raw\u001b[0m\u001b[0;34m(\u001b[0m\u001b[0;34m)\u001b[0m\u001b[0;34m\u001b[0m\u001b[0;34m\u001b[0m\u001b[0m\n\u001b[1;32m    184\u001b[0m \u001b[0;34m\u001b[0m\u001b[0m\n\u001b[0;32m--> 185\u001b[0;31m         \u001b[0;32mreturn\u001b[0m \u001b[0mself\u001b[0m\u001b[0;34m.\u001b[0m\u001b[0mapply_standard\u001b[0m\u001b[0;34m(\u001b[0m\u001b[0;34m)\u001b[0m\u001b[0;34m\u001b[0m\u001b[0;34m\u001b[0m\u001b[0m\n\u001b[0m\u001b[1;32m    186\u001b[0m \u001b[0;34m\u001b[0m\u001b[0m\n\u001b[1;32m    187\u001b[0m     \u001b[0;32mdef\u001b[0m \u001b[0mapply_empty_result\u001b[0m\u001b[0;34m(\u001b[0m\u001b[0mself\u001b[0m\u001b[0;34m)\u001b[0m\u001b[0;34m:\u001b[0m\u001b[0;34m\u001b[0m\u001b[0;34m\u001b[0m\u001b[0m\n",
      "\u001b[0;32m/opt/conda/envs/python35-paddle120-env/lib/python3.7/site-packages/pandas/core/apply.py\u001b[0m in \u001b[0;36mapply_standard\u001b[0;34m(self)\u001b[0m\n\u001b[1;32m    274\u001b[0m \u001b[0;34m\u001b[0m\u001b[0m\n\u001b[1;32m    275\u001b[0m     \u001b[0;32mdef\u001b[0m \u001b[0mapply_standard\u001b[0m\u001b[0;34m(\u001b[0m\u001b[0mself\u001b[0m\u001b[0;34m)\u001b[0m\u001b[0;34m:\u001b[0m\u001b[0;34m\u001b[0m\u001b[0;34m\u001b[0m\u001b[0m\n\u001b[0;32m--> 276\u001b[0;31m         \u001b[0mresults\u001b[0m\u001b[0;34m,\u001b[0m \u001b[0mres_index\u001b[0m \u001b[0;34m=\u001b[0m \u001b[0mself\u001b[0m\u001b[0;34m.\u001b[0m\u001b[0mapply_series_generator\u001b[0m\u001b[0;34m(\u001b[0m\u001b[0;34m)\u001b[0m\u001b[0;34m\u001b[0m\u001b[0;34m\u001b[0m\u001b[0m\n\u001b[0m\u001b[1;32m    277\u001b[0m \u001b[0;34m\u001b[0m\u001b[0m\n\u001b[1;32m    278\u001b[0m         \u001b[0;31m# wrap results\u001b[0m\u001b[0;34m\u001b[0m\u001b[0;34m\u001b[0m\u001b[0;34m\u001b[0m\u001b[0m\n",
      "\u001b[0;32m/opt/conda/envs/python35-paddle120-env/lib/python3.7/site-packages/pandas/core/apply.py\u001b[0m in \u001b[0;36mapply_series_generator\u001b[0;34m(self)\u001b[0m\n\u001b[1;32m    303\u001b[0m                 \u001b[0;32mfor\u001b[0m \u001b[0mi\u001b[0m\u001b[0;34m,\u001b[0m \u001b[0mv\u001b[0m \u001b[0;32min\u001b[0m \u001b[0menumerate\u001b[0m\u001b[0;34m(\u001b[0m\u001b[0mseries_gen\u001b[0m\u001b[0;34m)\u001b[0m\u001b[0;34m:\u001b[0m\u001b[0;34m\u001b[0m\u001b[0;34m\u001b[0m\u001b[0m\n\u001b[1;32m    304\u001b[0m                     \u001b[0;31m# ignore SettingWithCopy here in case the user mutates\u001b[0m\u001b[0;34m\u001b[0m\u001b[0;34m\u001b[0m\u001b[0;34m\u001b[0m\u001b[0m\n\u001b[0;32m--> 305\u001b[0;31m                     \u001b[0mresults\u001b[0m\u001b[0;34m[\u001b[0m\u001b[0mi\u001b[0m\u001b[0;34m]\u001b[0m \u001b[0;34m=\u001b[0m \u001b[0mself\u001b[0m\u001b[0;34m.\u001b[0m\u001b[0mf\u001b[0m\u001b[0;34m(\u001b[0m\u001b[0mv\u001b[0m\u001b[0;34m)\u001b[0m\u001b[0;34m\u001b[0m\u001b[0;34m\u001b[0m\u001b[0m\n\u001b[0m\u001b[1;32m    306\u001b[0m                     \u001b[0;32mif\u001b[0m \u001b[0misinstance\u001b[0m\u001b[0;34m(\u001b[0m\u001b[0mresults\u001b[0m\u001b[0;34m[\u001b[0m\u001b[0mi\u001b[0m\u001b[0;34m]\u001b[0m\u001b[0;34m,\u001b[0m \u001b[0mABCSeries\u001b[0m\u001b[0;34m)\u001b[0m\u001b[0;34m:\u001b[0m\u001b[0;34m\u001b[0m\u001b[0;34m\u001b[0m\u001b[0m\n\u001b[1;32m    307\u001b[0m                         \u001b[0;31m# If we have a view on v, we need to make a copy because\u001b[0m\u001b[0;34m\u001b[0m\u001b[0;34m\u001b[0m\u001b[0;34m\u001b[0m\u001b[0m\n",
      "\u001b[0;32m/tmp/ipykernel_2142/2043155339.py\u001b[0m in \u001b[0;36m<lambda>\u001b[0;34m(x)\u001b[0m\n\u001b[1;32m      3\u001b[0m result2=pd.read_csv('result1.csv',header=None\n\u001b[1;32m      4\u001b[0m                     ,names=['ID','time','people_index'])\n\u001b[0;32m----> 5\u001b[0;31m \u001b[0mresult1\u001b[0m\u001b[0;34m[\u001b[0m\u001b[0;34m'people_index'\u001b[0m\u001b[0;34m]\u001b[0m \u001b[0;34m=\u001b[0m \u001b[0mresult1\u001b[0m\u001b[0;34m.\u001b[0m\u001b[0mapply\u001b[0m\u001b[0;34m(\u001b[0m\u001b[0;32mlambda\u001b[0m \u001b[0mx\u001b[0m\u001b[0;34m:\u001b[0m \u001b[0;34m(\u001b[0m\u001b[0mx\u001b[0m\u001b[0;34m[\u001b[0m\u001b[0;34m'people_index'\u001b[0m\u001b[0;34m]\u001b[0m \u001b[0;34m+\u001b[0m \u001b[0mresult2\u001b[0m\u001b[0;34m[\u001b[0m\u001b[0;34m'people_index'\u001b[0m\u001b[0;34m]\u001b[0m\u001b[0;34m)\u001b[0m\u001b[0;34m/\u001b[0m\u001b[0;36m2\u001b[0m\u001b[0;34m,\u001b[0m \u001b[0maxis\u001b[0m\u001b[0;34m=\u001b[0m\u001b[0;36m1\u001b[0m\u001b[0;34m)\u001b[0m\u001b[0;34m\u001b[0m\u001b[0;34m\u001b[0m\u001b[0m\n\u001b[0m\u001b[1;32m      6\u001b[0m \u001b[0mresult1\u001b[0m\u001b[0;34m.\u001b[0m\u001b[0mhead\u001b[0m\u001b[0;34m(\u001b[0m\u001b[0;34m)\u001b[0m\u001b[0;34m\u001b[0m\u001b[0;34m\u001b[0m\u001b[0m\n\u001b[1;32m      7\u001b[0m \u001b[0;31m# result1.to_csv('result_mix.csv',encoding='utf-8',header=None,index=None)\u001b[0m\u001b[0;34m\u001b[0m\u001b[0;34m\u001b[0m\u001b[0;34m\u001b[0m\u001b[0m\n",
      "\u001b[0;32m/opt/conda/envs/python35-paddle120-env/lib/python3.7/site-packages/pandas/core/series.py\u001b[0m in \u001b[0;36m__array_ufunc__\u001b[0;34m(self, ufunc, method, *inputs, **kwargs)\u001b[0m\n\u001b[1;32m    681\u001b[0m         \u001b[0;31m# for binary ops, use our custom dunder methods\u001b[0m\u001b[0;34m\u001b[0m\u001b[0;34m\u001b[0m\u001b[0;34m\u001b[0m\u001b[0m\n\u001b[1;32m    682\u001b[0m         result = ops.maybe_dispatch_ufunc_to_dunder_op(\n\u001b[0;32m--> 683\u001b[0;31m             \u001b[0mself\u001b[0m\u001b[0;34m,\u001b[0m \u001b[0mufunc\u001b[0m\u001b[0;34m,\u001b[0m \u001b[0mmethod\u001b[0m\u001b[0;34m,\u001b[0m \u001b[0;34m*\u001b[0m\u001b[0minputs\u001b[0m\u001b[0;34m,\u001b[0m \u001b[0;34m**\u001b[0m\u001b[0mkwargs\u001b[0m\u001b[0;34m\u001b[0m\u001b[0;34m\u001b[0m\u001b[0m\n\u001b[0m\u001b[1;32m    684\u001b[0m         )\n\u001b[1;32m    685\u001b[0m         \u001b[0;32mif\u001b[0m \u001b[0mresult\u001b[0m \u001b[0;32mis\u001b[0m \u001b[0;32mnot\u001b[0m \u001b[0mNotImplemented\u001b[0m\u001b[0;34m:\u001b[0m\u001b[0;34m\u001b[0m\u001b[0;34m\u001b[0m\u001b[0m\n",
      "\u001b[0;32mpandas/_libs/ops_dispatch.pyx\u001b[0m in \u001b[0;36mpandas._libs.ops_dispatch.maybe_dispatch_ufunc_to_dunder_op\u001b[0;34m()\u001b[0m\n",
      "\u001b[0;32m/opt/conda/envs/python35-paddle120-env/lib/python3.7/site-packages/pandas/core/ops/common.py\u001b[0m in \u001b[0;36mnew_method\u001b[0;34m(self, other)\u001b[0m\n\u001b[1;32m     63\u001b[0m         \u001b[0mother\u001b[0m \u001b[0;34m=\u001b[0m \u001b[0mitem_from_zerodim\u001b[0m\u001b[0;34m(\u001b[0m\u001b[0mother\u001b[0m\u001b[0;34m)\u001b[0m\u001b[0;34m\u001b[0m\u001b[0;34m\u001b[0m\u001b[0m\n\u001b[1;32m     64\u001b[0m \u001b[0;34m\u001b[0m\u001b[0m\n\u001b[0;32m---> 65\u001b[0;31m         \u001b[0;32mreturn\u001b[0m \u001b[0mmethod\u001b[0m\u001b[0;34m(\u001b[0m\u001b[0mself\u001b[0m\u001b[0;34m,\u001b[0m \u001b[0mother\u001b[0m\u001b[0;34m)\u001b[0m\u001b[0;34m\u001b[0m\u001b[0;34m\u001b[0m\u001b[0m\n\u001b[0m\u001b[1;32m     66\u001b[0m \u001b[0;34m\u001b[0m\u001b[0m\n\u001b[1;32m     67\u001b[0m     \u001b[0;32mreturn\u001b[0m \u001b[0mnew_method\u001b[0m\u001b[0;34m\u001b[0m\u001b[0;34m\u001b[0m\u001b[0m\n",
      "\u001b[0;32m/opt/conda/envs/python35-paddle120-env/lib/python3.7/site-packages/pandas/core/ops/__init__.py\u001b[0m in \u001b[0;36mwrapper\u001b[0;34m(left, right)\u001b[0m\n\u001b[1;32m    341\u001b[0m         \u001b[0mlvalues\u001b[0m \u001b[0;34m=\u001b[0m \u001b[0mextract_array\u001b[0m\u001b[0;34m(\u001b[0m\u001b[0mleft\u001b[0m\u001b[0;34m,\u001b[0m \u001b[0mextract_numpy\u001b[0m\u001b[0;34m=\u001b[0m\u001b[0;32mTrue\u001b[0m\u001b[0;34m)\u001b[0m\u001b[0;34m\u001b[0m\u001b[0;34m\u001b[0m\u001b[0m\n\u001b[1;32m    342\u001b[0m         \u001b[0mrvalues\u001b[0m \u001b[0;34m=\u001b[0m \u001b[0mextract_array\u001b[0m\u001b[0;34m(\u001b[0m\u001b[0mright\u001b[0m\u001b[0;34m,\u001b[0m \u001b[0mextract_numpy\u001b[0m\u001b[0;34m=\u001b[0m\u001b[0;32mTrue\u001b[0m\u001b[0;34m)\u001b[0m\u001b[0;34m\u001b[0m\u001b[0;34m\u001b[0m\u001b[0m\n\u001b[0;32m--> 343\u001b[0;31m         \u001b[0mresult\u001b[0m \u001b[0;34m=\u001b[0m \u001b[0marithmetic_op\u001b[0m\u001b[0;34m(\u001b[0m\u001b[0mlvalues\u001b[0m\u001b[0;34m,\u001b[0m \u001b[0mrvalues\u001b[0m\u001b[0;34m,\u001b[0m \u001b[0mop\u001b[0m\u001b[0;34m)\u001b[0m\u001b[0;34m\u001b[0m\u001b[0;34m\u001b[0m\u001b[0m\n\u001b[0m\u001b[1;32m    344\u001b[0m \u001b[0;34m\u001b[0m\u001b[0m\n\u001b[1;32m    345\u001b[0m         \u001b[0;32mreturn\u001b[0m \u001b[0mleft\u001b[0m\u001b[0;34m.\u001b[0m\u001b[0m_construct_result\u001b[0m\u001b[0;34m(\u001b[0m\u001b[0mresult\u001b[0m\u001b[0;34m,\u001b[0m \u001b[0mname\u001b[0m\u001b[0;34m=\u001b[0m\u001b[0mres_name\u001b[0m\u001b[0;34m)\u001b[0m\u001b[0;34m\u001b[0m\u001b[0;34m\u001b[0m\u001b[0m\n",
      "\u001b[0;32m/opt/conda/envs/python35-paddle120-env/lib/python3.7/site-packages/pandas/core/ops/array_ops.py\u001b[0m in \u001b[0;36marithmetic_op\u001b[0;34m(left, right, op)\u001b[0m\n\u001b[1;32m    188\u001b[0m     \u001b[0;32melse\u001b[0m\u001b[0;34m:\u001b[0m\u001b[0;34m\u001b[0m\u001b[0;34m\u001b[0m\u001b[0m\n\u001b[1;32m    189\u001b[0m         \u001b[0;32mwith\u001b[0m \u001b[0mnp\u001b[0m\u001b[0;34m.\u001b[0m\u001b[0merrstate\u001b[0m\u001b[0;34m(\u001b[0m\u001b[0mall\u001b[0m\u001b[0;34m=\u001b[0m\u001b[0;34m\"ignore\"\u001b[0m\u001b[0;34m)\u001b[0m\u001b[0;34m:\u001b[0m\u001b[0;34m\u001b[0m\u001b[0;34m\u001b[0m\u001b[0m\n\u001b[0;32m--> 190\u001b[0;31m             \u001b[0mres_values\u001b[0m \u001b[0;34m=\u001b[0m \u001b[0mna_arithmetic_op\u001b[0m\u001b[0;34m(\u001b[0m\u001b[0mlvalues\u001b[0m\u001b[0;34m,\u001b[0m \u001b[0mrvalues\u001b[0m\u001b[0;34m,\u001b[0m \u001b[0mop\u001b[0m\u001b[0;34m)\u001b[0m\u001b[0;34m\u001b[0m\u001b[0;34m\u001b[0m\u001b[0m\n\u001b[0m\u001b[1;32m    191\u001b[0m \u001b[0;34m\u001b[0m\u001b[0m\n\u001b[1;32m    192\u001b[0m     \u001b[0;32mreturn\u001b[0m \u001b[0mres_values\u001b[0m\u001b[0;34m\u001b[0m\u001b[0;34m\u001b[0m\u001b[0m\n",
      "\u001b[0;32m/opt/conda/envs/python35-paddle120-env/lib/python3.7/site-packages/pandas/core/ops/array_ops.py\u001b[0m in \u001b[0;36mna_arithmetic_op\u001b[0;34m(left, right, op, is_cmp)\u001b[0m\n\u001b[1;32m    141\u001b[0m \u001b[0;34m\u001b[0m\u001b[0m\n\u001b[1;32m    142\u001b[0m     \u001b[0;32mtry\u001b[0m\u001b[0;34m:\u001b[0m\u001b[0;34m\u001b[0m\u001b[0;34m\u001b[0m\u001b[0m\n\u001b[0;32m--> 143\u001b[0;31m         \u001b[0mresult\u001b[0m \u001b[0;34m=\u001b[0m \u001b[0mexpressions\u001b[0m\u001b[0;34m.\u001b[0m\u001b[0mevaluate\u001b[0m\u001b[0;34m(\u001b[0m\u001b[0mop\u001b[0m\u001b[0;34m,\u001b[0m \u001b[0mleft\u001b[0m\u001b[0;34m,\u001b[0m \u001b[0mright\u001b[0m\u001b[0;34m)\u001b[0m\u001b[0;34m\u001b[0m\u001b[0;34m\u001b[0m\u001b[0m\n\u001b[0m\u001b[1;32m    144\u001b[0m     \u001b[0;32mexcept\u001b[0m \u001b[0mTypeError\u001b[0m\u001b[0;34m:\u001b[0m\u001b[0;34m\u001b[0m\u001b[0;34m\u001b[0m\u001b[0m\n\u001b[1;32m    145\u001b[0m         \u001b[0;32mif\u001b[0m \u001b[0mis_cmp\u001b[0m\u001b[0;34m:\u001b[0m\u001b[0;34m\u001b[0m\u001b[0;34m\u001b[0m\u001b[0m\n",
      "\u001b[0;32m/opt/conda/envs/python35-paddle120-env/lib/python3.7/site-packages/pandas/core/computation/expressions.py\u001b[0m in \u001b[0;36mevaluate\u001b[0;34m(op, a, b, use_numexpr)\u001b[0m\n\u001b[1;32m    231\u001b[0m         \u001b[0muse_numexpr\u001b[0m \u001b[0;34m=\u001b[0m \u001b[0muse_numexpr\u001b[0m \u001b[0;32mand\u001b[0m \u001b[0m_bool_arith_check\u001b[0m\u001b[0;34m(\u001b[0m\u001b[0mop_str\u001b[0m\u001b[0;34m,\u001b[0m \u001b[0ma\u001b[0m\u001b[0;34m,\u001b[0m \u001b[0mb\u001b[0m\u001b[0;34m)\u001b[0m\u001b[0;34m\u001b[0m\u001b[0;34m\u001b[0m\u001b[0m\n\u001b[1;32m    232\u001b[0m         \u001b[0;32mif\u001b[0m \u001b[0muse_numexpr\u001b[0m\u001b[0;34m:\u001b[0m\u001b[0;34m\u001b[0m\u001b[0;34m\u001b[0m\u001b[0m\n\u001b[0;32m--> 233\u001b[0;31m             \u001b[0;32mreturn\u001b[0m \u001b[0m_evaluate\u001b[0m\u001b[0;34m(\u001b[0m\u001b[0mop\u001b[0m\u001b[0;34m,\u001b[0m \u001b[0mop_str\u001b[0m\u001b[0;34m,\u001b[0m \u001b[0ma\u001b[0m\u001b[0;34m,\u001b[0m \u001b[0mb\u001b[0m\u001b[0;34m)\u001b[0m  \u001b[0;31m# type: ignore\u001b[0m\u001b[0;34m\u001b[0m\u001b[0;34m\u001b[0m\u001b[0m\n\u001b[0m\u001b[1;32m    234\u001b[0m     \u001b[0;32mreturn\u001b[0m \u001b[0m_evaluate_standard\u001b[0m\u001b[0;34m(\u001b[0m\u001b[0mop\u001b[0m\u001b[0;34m,\u001b[0m \u001b[0mop_str\u001b[0m\u001b[0;34m,\u001b[0m \u001b[0ma\u001b[0m\u001b[0;34m,\u001b[0m \u001b[0mb\u001b[0m\u001b[0;34m)\u001b[0m\u001b[0;34m\u001b[0m\u001b[0;34m\u001b[0m\u001b[0m\n\u001b[1;32m    235\u001b[0m \u001b[0;34m\u001b[0m\u001b[0m\n",
      "\u001b[0;32m/opt/conda/envs/python35-paddle120-env/lib/python3.7/site-packages/pandas/core/computation/expressions.py\u001b[0m in \u001b[0;36m_evaluate_standard\u001b[0;34m(op, op_str, a, b)\u001b[0m\n\u001b[1;32m     66\u001b[0m         \u001b[0m_store_test_result\u001b[0m\u001b[0;34m(\u001b[0m\u001b[0;32mFalse\u001b[0m\u001b[0;34m)\u001b[0m\u001b[0;34m\u001b[0m\u001b[0;34m\u001b[0m\u001b[0m\n\u001b[1;32m     67\u001b[0m     \u001b[0;32mwith\u001b[0m \u001b[0mnp\u001b[0m\u001b[0;34m.\u001b[0m\u001b[0merrstate\u001b[0m\u001b[0;34m(\u001b[0m\u001b[0mall\u001b[0m\u001b[0;34m=\u001b[0m\u001b[0;34m\"ignore\"\u001b[0m\u001b[0;34m)\u001b[0m\u001b[0;34m:\u001b[0m\u001b[0;34m\u001b[0m\u001b[0;34m\u001b[0m\u001b[0m\n\u001b[0;32m---> 68\u001b[0;31m         \u001b[0;32mreturn\u001b[0m \u001b[0mop\u001b[0m\u001b[0;34m(\u001b[0m\u001b[0ma\u001b[0m\u001b[0;34m,\u001b[0m \u001b[0mb\u001b[0m\u001b[0;34m)\u001b[0m\u001b[0;34m\u001b[0m\u001b[0;34m\u001b[0m\u001b[0m\n\u001b[0m\u001b[1;32m     69\u001b[0m \u001b[0;34m\u001b[0m\u001b[0m\n\u001b[1;32m     70\u001b[0m \u001b[0;34m\u001b[0m\u001b[0m\n",
      "\u001b[0;32m/opt/conda/envs/python35-paddle120-env/lib/python3.7/site-packages/pandas/core/ops/roperator.py\u001b[0m in \u001b[0;36mradd\u001b[0;34m(left, right)\u001b[0m\n\u001b[1;32m      7\u001b[0m \u001b[0;34m\u001b[0m\u001b[0m\n\u001b[1;32m      8\u001b[0m \u001b[0;32mdef\u001b[0m \u001b[0mradd\u001b[0m\u001b[0;34m(\u001b[0m\u001b[0mleft\u001b[0m\u001b[0;34m,\u001b[0m \u001b[0mright\u001b[0m\u001b[0;34m)\u001b[0m\u001b[0;34m:\u001b[0m\u001b[0;34m\u001b[0m\u001b[0;34m\u001b[0m\u001b[0m\n\u001b[0;32m----> 9\u001b[0;31m     \u001b[0;32mreturn\u001b[0m \u001b[0mright\u001b[0m \u001b[0;34m+\u001b[0m \u001b[0mleft\u001b[0m\u001b[0;34m\u001b[0m\u001b[0;34m\u001b[0m\u001b[0m\n\u001b[0m\u001b[1;32m     10\u001b[0m \u001b[0;34m\u001b[0m\u001b[0m\n\u001b[1;32m     11\u001b[0m \u001b[0;34m\u001b[0m\u001b[0m\n",
      "\u001b[0;31mKeyboardInterrupt\u001b[0m: "
     ]
    }
   ],
   "source": [
    "\n",
    "result1=pd.read_csv('result.csv',header=None\n",
    "                    ,names=['ID','time','people_index'])\n",
    "result2=pd.read_csv('result1.csv',header=None\n",
    "                    ,names=['ID','time','people_index'])\n",
    "result1['people_index'] = result1.apply(lambda x: (x['people_index'] + result2['people_index'])/2, axis=1)\n",
    "result1.head()\n",
    "# result1.to_csv('result_mix.csv',encoding='utf-8',header=None,index=None)"
   ]
  }
 ],
 "metadata": {
  "kernelspec": {
   "display_name": "Python 3",
   "language": "python",
   "name": "py35-paddle1.2.0"
  },
  "language_info": {
   "codemirror_mode": {
    "name": "ipython",
    "version": 3
   },
   "file_extension": ".py",
   "mimetype": "text/x-python",
   "name": "python",
   "nbconvert_exporter": "python",
   "pygments_lexer": "ipython3",
   "version": "3.7.4"
  }
 },
 "nbformat": 4,
 "nbformat_minor": 5
}
